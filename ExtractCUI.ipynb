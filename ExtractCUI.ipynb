{
  "cells": [
    {
      "cell_type": "markdown",
      "metadata": {
        "id": "H6DYr3OWt6KR"
      },
      "source": [
        "https://colab.research.google.com/github/bnsreenu/python_for_microscopists/blob/master/tips_tricks_38_Installing_conda_in_Google_Colab.ipynb#scrollTo=Hech3AARiLXp"
      ]
    },
    {
      "cell_type": "code",
      "execution_count": null,
      "metadata": {
        "id": "UPQFPzHlsAto"
      },
      "outputs": [],
      "source": [
        "#Path and version numbers for python\n",
        "!which python\n",
        "!python --version"
      ]
    },
    {
      "cell_type": "code",
      "execution_count": null,
      "metadata": {
        "colab": {
          "base_uri": "https://localhost:8080/"
        },
        "id": "ef49r8uYoOlP",
        "outputId": "529130cd-3e0a-4491-ebb4-48a91c907617"
      },
      "outputs": [
        {
          "output_type": "stream",
          "name": "stdout",
          "text": [
            "Drive already mounted at /content/drive; to attempt to forcibly remount, call drive.mount(\"/content/drive\", force_remount=True).\n"
          ]
        }
      ],
      "source": [
        "from google.colab import drive\n",
        "drive.mount('/content/drive')"
      ]
    },
    {
      "cell_type": "code",
      "execution_count": null,
      "metadata": {
        "id": "2D4eF5e5u4-1"
      },
      "outputs": [],
      "source": [
        "!pip install quickumls\n",
        "!pip install dill"
      ]
    },
    {
      "cell_type": "code",
      "execution_count": null,
      "metadata": {
        "colab": {
          "base_uri": "https://localhost:8080/"
        },
        "id": "VaH5LP7GhKOl",
        "outputId": "a026cabe-e78b-4571-d5a8-a5ab1bc0ec72"
      },
      "outputs": [
        {
          "output_type": "stream",
          "name": "stdout",
          "text": [
            "/content/drive/.shortcut-targets-by-id/1Z6LHAVVC9fSl0B9pwGd6rlPzt1fN2UEW/DL4HC Final Project/concept_annotation\n"
          ]
        }
      ],
      "source": [
        "%cd '/content/drive/MyDrive/DL4HC Final Project/concept_annotation/'"
      ]
    },
    {
      "cell_type": "code",
      "execution_count": null,
      "metadata": {
        "id": "-0QxGRG4rWS-"
      },
      "outputs": [],
      "source": [
        "from quickumls import QuickUMLS"
      ]
    },
    {
      "cell_type": "code",
      "execution_count": null,
      "metadata": {
        "id": "cw23G8EfuCtA",
        "colab": {
          "base_uri": "https://localhost:8080/"
        },
        "outputId": "72dac397-1cc8-4f3e-fba9-41ada95916b1"
      },
      "outputs": [
        {
          "output_type": "execute_result",
          "data": {
            "text/plain": [
              "array(['row_id', 'subject_id', 'hadm_id', 'chartdate', 'charttime',\n",
              "       'storetime', 'category', 'description', 'cgid', 'iserror', 'text',\n",
              "       'cui_set', 'term_set'], dtype=object)"
            ]
          },
          "metadata": {},
          "execution_count": 3
        }
      ],
      "source": [
        "import pandas as pd \n",
        "    \n",
        "# making dataframe \n",
        "data = pd.read_csv(\"/content/drive/MyDrive/DL4HC Final Project/concept_annotation/data/chunkssmall/1.csv\") \n",
        "data.columns = [*data.columns[:-1], 'text'] # rename column and remove whitespace.\n",
        "data['cui_set'] = None\n",
        "data['term_set'] = None\n",
        "# output the column names\n",
        "data.columns.values"
      ]
    },
    {
      "cell_type": "code",
      "execution_count": null,
      "metadata": {
        "colab": {
          "base_uri": "https://localhost:8080/"
        },
        "id": "jNTLWwMbwJUH",
        "outputId": "671094b5-a116-41b9-b463-5aefd65a02a7"
      },
      "outputs": [
        {
          "name": "stdout",
          "output_type": "stream",
          "text": [
            " radiologic studies radiologic studies also included a chest ct which confirmed cavitary lesions in the left lung apex consistent with infectious processtuberculosis this also moderate sized left pleural effusionhead ct head ct showed no intracranial hemorrhage or mass effect but old infarction consistent with past medical historyabdominal ct abdominal ct showed lesions of t ten and sacrum most likely secondary to osteoporosis these can be followed by repeat imaging as an outpatient \n",
            " history of present illness this is an eighty one year old female with a history of emphysema not on home o two who presents with three days of shortness of breath thought by her primary care doctor to be a copd flare two days prior to admission she was started on a prednisone taper and one day prior to admission she required oxygen at home in order to maintain oxygen saturation greater than ninety percent she has also been on levofloxacin and nebulizers and was not getting better and presented to the emergency roomin the emergency room her oxygen saturation was one hundred percent on cpap she was not able to be weaned off of this despite nebulizer treatment and solu medrol one hundred twenty five mg iv x tworeview of systems is negative for the following fevers chills nausea vomiting night sweats change in weight gastrointestinal complaints neurologic changes rashes palpitations orthopnea is positive for the following chest pressure occasionally with shortness of breath with exertion some shortness of breath that is positionally related but is improved with nebulizer treatmentpast medical historycopd last pulmonary function tests in demonstrated a fvc of fifty two percent of predicted a fev one of fifty four percent of predicted a mmf of twenty three percent of predicted and a fev one fvc ratio of sixty seven percent of predicted that does not improve with bronchodilator treatment the fvc however does significantly improve with bronchodilator treatment consistent with her known reversible air flow obstruction in addition to an underlying restrictive ventilatory defect the patient has never been on home oxygen prior to this recent episode she has never been on steroid taper or been intubated in the pastlacunar cva mri of the head in demonstrates mild degree of multiple small foci of high t two signal within the white matter of both cerebral hemispheres as well as the pons in the latter region predominantly to the right of midline the abnormalities while nonspecific in etiology are most likely secondary to chronic microvascular infarction there is no mass lesion shift of the normal midline strictures or hydrocephalus the major vascular flow patterns are preserved there is moderate right maxillary moderate bilateral ethmoid mild left maxillary minimal right sphenoid and frontal sinus mucosal thickening these abnormalities could represent an allergic or some other type of inflammatory process additionally noted is a moderately enlarged subtotally empty sella turcicaangina most recent stress test was in going for four minutes with a rate pressure product of ten zerozerozero sixty four percent of maximum predicted heart rate without evidence of ischemic ekg changes or symptoms the imaging portion of the study demonstrated no evidence of myocardial ischemia and a calculated ejection fraction of eighty four percent the patient denies angina at rest and gets angina with walking a few blocks are alleviated by sublingual nitroglycerinhypothyroidism on synthroiddepression on lexapromotor vehicle accident with head injury approximately ten years agomedications on admissionhydrochlorothiazide twenty five qd prednisone sixty mg fifty mg fourty mg twenty mg levofloxacin five hundred mg qd imdur sixty mg qd synthroid seventy five mcg qd pulmicort nebulizer bid albuterol nebulizer q point four prn lexapro ten mg qd protonix fourty mg qd aspirin eighty one mg qd allergies norvasc leads to lightheadedness and headachefamily history noncontributorysocial history lives with her husband dr an eminent pediatric neurologist at the patient is a prior smoker but has not smoked in over ten years she has no known alcohol use and she is a full codephysical exam at time of admission blood pressure one hundred fourty two seventy six heart rate one hundred and regular respirations at seventeen twenty one and ninety seven percent axillary temperature she was saturating at one hundred percent on cpap with dry mucous membranes an elderly female in no apparent distress pupils are equal round and reactive to light and accommodation extraocular movements are intact oropharynx difficult to assess due to cpap machine no evidence of jugular venous pressure however the strap from the cpap machine obscures the neck exam cranial nerves ii through xii are grossly intact neck is supple without lymphadenopathy heart exam tachycardic regular obscured by loud bilateral wheezing with increase in the expiratory phase as well as profuse scattered rhonchi throughout the lung fields positive bowel sounds soft nontender nondistended obese no masses mild edema of the lower extremities without clubbing or cyanosis no rashes there is a right hand hematoma strength is assessed as in the lower extremities in the upper extremities with a normal mental status and cognitionlaboratory studies white count nineteen hematocrit fourty one platelets three hundred chem seven one hundred twenty seven three point six eighty eight twenty nine seventeen zero point six one hundred fourty three troponin was negative cks were negative times three initial blood gas showed a ph of seven point four po two of sixty six pco two of fifty fourchest x ray demonstrates a moderate sized hiatal hernia segmental atelectasis left lower lobe infiltrate versus segmental atelectasisekg shows normal sinus rhythm at one hundred thirteen beats per minute normal axis no evidence of st t wave changesbrief summary of hospital coursecopddyspneapneumonia the patient was initially placed on an aggressive steroid taper and admitted to the medical intensive care unit due to her difficulty with oxygenation despite cpap machine she was also given nebulizer treatments q point four h as well as chest pt the nebulizers were increased to q point one h due to the fact that she continued to have labored breathingdue to persistent respiratory failure and labored breathing the patient was intubated on in order to improve oxygenation ventilation and ability to suction a bronchoscopy was performed on which demonstrated marked narrowing of the airways with expiration consistent with tracheomalaciaon two silicone stents were placed one in the left main stem twelve x twenty five and one in the trachea sixteen x fourty by dr under rigid bronchoscopy with general anesthesiaon the patient was extubated to a cool mist shovel mask and her oxygen was titrated down to two liters nasal cannula at which time she was transferred to the medical floor on the medical floor the steroids were weaned to off on and the patient was saturating at ninety seven percent on two liters ninety two percent on room airon the patient was seen again by the interventional pulmonology service who agreed that she looked much improved and recommended that she go to pulmonary rehabilitation with followup within six weeks time status post placement of stents in respiratory failurecardiovascular the patient was ruled out for a mi she did have another episode on the medical floor of chest pain which showed no evidence of ekg changes and negative troponin negative cks x three she was continued on aspirin imdur and diltiazem for rate control per her outpatient regimenhypertension she was maintained on diltiazem and hydrochlorothiazide with adequate blood pressure control and normalization of electrolyteshematuria the patient had intermittent hematuria likely secondary to foley placement the foley catheter was discontinued on she had serial urinalyses which were all negative for signs of infectionhyperglycemia patient was placed on insulin sliding scale due to hyperglycemia which was steroid induced this worked quite well and her glucose came back to normal levels once the steroids were tapered to offleukocytosis patient did have a profound leukocytosis of twenty to twenty two during much of her hospital course as the steroids were tapered to off her white blood cell count on was fifteen zerozerozero it was felt that the leukocytosis was secondary to both steroids as well as question of a left lower lobe pneumoniafor the left lower lobe pneumonia the patient had initially received a course of levofloxacin five hundred po qd from to this was restarted on for an additional seven day course given the fact that she still had the leukocytosis and still had marked rales at the left lower lobehypothyroidism the patient was continued on outpatient medical regimendepression the patient was continued on lexapro per outpatient regimen it is recommended that she follow up with a therapist as an outpatient due to the fact that she did have a blunted affect throughout much of the hospital course and did appear clinically to be depressedprophylaxis she was maintained on proton pump inhibitor with subq heparinsore throat the patient did have a sore throat for much of the hospital course post extubation this was treated with cepacol lozenges as well as kbl liquid a solution containing kaopectate bismuth and lidocaine at bedtimecommunicationcode status the patient was full code throughout her hospital course and communication was maintained with the patient and her husbandmuscle weakness the patient did have profound muscle weakness and was evaluated by physical therapy and was found to have impaired functional mobility impaired musculoskeletal performance impaired gas exchange impaired endurance impaired ventilation and needed help with supine to sit however she was able to tolerate sitting in a chair for approximately one houron motor exam her flexors and extensors of the lower extremities were at the knee at the ankle at the elbows and hips it was felt that this weakness was most likely due to a combination of steroid myopathy as well as muscle atrophy secondary to deconditioning after a prolonged hospital coursespeechswallow the patient had a speech and swallow evaluation showing no evidence of dysphagia no evidence of vocal cord damage status post tracheal stent placement discharge condition the patient was able to oxygenate on room air at ninety three percent at the time of discharge she was profoundly weak but was no longer tachycardic and had a normal blood pressure her respirations were much improved albeit with transmitted upper airway soundsdischarge status the patient will be discharged to for both pulmonary and physical rehabilitationdischarge medicationslevothyroxine seventy five mcg po qd citalopram ten mg po qd aspirin eighty one mg po qd fluticasone one hundred ten mcg two puffs inhaled bid salmeterol diskus one inhalation bid acetaminophen three hundred twenty five six hundred fifty mg po q point four six h prn ipratropium bromide mdi two puffs inhaled q point two h prn albuterol one two puffs inhaled q point two h prn zolpidem tartrate five mg po qhs prn isosorbide dinitrate ten mg po tid diltiazem sixty mg po qid pantoprazole fourty mg po q point twenty four h trazodone twenty five mg po qhs prn subq heparin five thousand units subcutaneous bid until such time that the patient is able to get out of bed twice a day cepacol lozenges q point two h prn levofloxacin five hundred mg po qd for a seven day course to be completed on kaopectatebenadryllidocaine five ml po bid prn not to be given around mealtimes for concern of dysphagia induced by lidocaine lorazepam zero point five two mg iv q point six h prn follow up plans the patient is recommended to followup with dr within two weeks of leaving of the hospital she is also recommended to followup with the interventional pulmonary service for followup status post stent placement she is also recommended to followup with a neurologist if her muscle weakness does not improve within one week on physical therapy with concern for steroid induced myopathyfinal diagnosestracheomalacia status post tracheal and left main stem bronchial stent placement hypertension hypothyroidism restrictive lung defect depression dr twelve two hundred seven \n",
            " allergies amlodipineattending chief complaint eighty one yo f smoker w copd severe tbm sp tracheobronchoplasty sp perc trachmajor surgical or invasive procedure bronchoscopy three thirty one four two three sp trachealplasty percutaneous tracheostomy after failed extubation down size trach on to size six cufflesshistory of present illness this eighty one year old woman has a history of copd over the past fiveyears she has had progressive difficulties with her breathing in she was admitted to for respiratory failure due to a copd exacerbation due to persistent hypoxemia she required intubation and a eventual bronchoscopy on revealed markednarrowing of the airways on expiration consistent with tracheomalacia she subsequently underwent placement of two silicone stents one in the left main stem and one in the trachea during the admission the patient had complaints of chest pain and ruled out for an mi she was subsequently discharged tofor physical and pulmonary rehab repeat bronchoscopy on revealed granulation tissue at the distal right lateral wall of the tracheal stent there was significant malacia of theperipheral and central airways with complete collapse of the airways on coughing and forced expiration small nodules were also noted on the vocal cords she has noticed improvement in her respiratory status but most recently has been in discussion with dr regarding possible tracheobronchial plastywith mesh tracheal stents dc in anticipation of surgery in terms of symptoms she describes many years of intermittent chest pain that she describes as left sided and occurring at anytime currently she notices it about three times a week and states that it seems to resolve after three nitroglycerin she currently is dependent on oxygen and wears one point five two liters around the clock she has frequent coughing and brings up dark sputumpast medical history copd flare sp intubation sp distal tracheal to left main stem stents placed stents dc d cad w atypical angina lad thirty percent rca thirty percent ef sixty three percent chol hypothyroidism htn hiatal hernia lacunar cva sp ped struck head injury rib fx depression pmh copd sp admit for exacerbation requiring intubation tracheobronchomalacia sp bronchial stenting large hiatal hernia lacunar cva hypothyroidism by records in ccc although patient denies and isnot taking any medication depression mva sp head injury approximately ten years ago hypertension hysterectomysocial history social history the patient is married and worked as a clinical psychologist her husband is a pediatric neurologist at they have several children one of which isa nursefamily history family history fhx cad father with an mi in his fourty s diedof a cva at age fifty ninephysical exam admit h p general lovely eighty one yr old feamle in nad neuro intermittently anxious mae perrla l eye ptosis symetrical smile gossly intact heent perrla sclera anicteric pharynx no exud or erythema resp clear upper diffuse ronchi intermit exp wheezes cor rrr no m r g abd soft nt nd no masses slight protrusion at area of hiatal hernia ext no edema or clubbingbrief hospital course eighty two yo female admitted for consideration of tracheoplasty bronchoscopy done confirming severe tbm underwent tracheoplasty complicated by resp failure dt mucous plugging hypoxia requiring re intubation resulting in prolonged icu and hospital course also developed right upper extrem dvt from mid linepain epidural accidently dc d pod one pt briefly used dilaudid pca intermittently w fair pain control pt required re intubation for resp failure dt secretions and pca dc at that time propofol for sedation while intubated sedation dc d for weaning trial w ett failed trial trach weaning efforts as below minimal co pain since presently pain freeneuro initially intact post op aggitation inhibiting weaning efforts psych eval started on zyprexa and ativan w improvement in anxiety presently a ox three cooperative and lovelyresp extubated pod two then required re intub for hypoxia dt poor cough and mucous plugging simvps alt wcmv at night x four five d with cpap attempts during day bronchoscopy qd for secretion management bronch revealed swollen epiglottis bronch good leak w ett cuff deflated bronch for evaltrach placement last bronch w min secretions present sputum sent perc trach done eight portex cuffed low pressure maintained to preserve tracheoplasty site cpap fifteen peep five initiated post trach placement weaning ongoing aggressive weaning w increasing episodes of cpap progressing to trach mask trach mask overnight w no episodes of sob or hemodynamic instability trach changed to six portex capped and well x fourty eight hrs on two lnp productive cough aggressive pt as well w oob chair tid to total four six hr qd ambulation one hundred one hundred twenty ft w pt assistid vancomycin started post op for graft prophylaxis fever spike w bal sputum sent mrsa vanco cont to weeks post trachealplasty fever low grade cultured no new results wbc twenty point eightcardiac hypertension controlled w hydralazine iv then dc and cont controlled hr sixty five seventy five nsr avoiding b blockers lasix twenty mg iv qd rue redness and swelling at site of midline rue dvt by ultrasound midline dc heparin gtt started and therapeutic range monitored changed to lovenox sq coags in good control fourty eight point two thirteen point eight one point two access r midline placed for access clotted and dc d rue redness and swelling and dvt via ultrasound l brachial picc line placed tpn resumedgi large hiatal hernia unable to place enteral feeding tube at bedside or underfluoro re attempt by egd doboff tube placed distal esophagus dislodged in twelve hours and removednutrition ppntpn initiated picc placed speech and swallow eval rec change trach form eight to six portex to allow improved epiglotis and oropharyngeal movement to assist w swallowing then re eval trach changed to six cuffless portex trach passed repeat swallow eval and diet of regular solids w thin liquids chin tuck to swallow thin liquids give meds whole w apple sauce would recommend repeat video swallow eval in days to possibly eliminate chin tuck see page three referralendo hypothyroid maintained on levoxylmuscuskel oob chair four six hoursday pt consultingmedications on admission advair two hundred fifty fifty atrovent imdur sixty lasix fourty lexapro twenty lipitor ten prilosec twenty mucinex six hundred synthroid seventy five detrol la four ambien five trazadone seventy five melatonin prndischarge medicationsalbuterol sulfate zero point zero eighty three percent solution sig one inhalation q six h every six hours as needed for wheezing ipratropium bromide zero point zero two percent solution sig one inhalation q six h every six hours as needed for wheezing fluticasone salmeterol two hundred fifty fifty mcgdose disk with device sig one disk with device inhalation two times a day albuterol ninety mcgactuation aerosol sig one two puffs inhalation q six h every six hours as needed ipratropium bromide eighteen mcgactuation aerosol sig two puff inhalation qid four times a day acetaminophen three hundred twenty five mg tablet sig one two tablets po q four six h every four to six hours as needed sodium chloride zero point sixty five percent aerosol spray sig sprays nasal qid four times a day as needed camphor menthol zero point five zero point five percent lotion sig one appl topical tid three times a day as needed enoxaparin sodium sixty mg zero point six ml syringe sig one subcutaneous q twelve h every twelve hours trazodone hcl fifty mg tablet sig one point five tablets po hs at bedtime as needed escitalopram oxalate ten mg tablet sig two tablet po daily daily nystatin one hundred zerozerozero unitg cream sig one appl topical two times a day pantoprazole sodium fourty mg tablet delayed release ec sig one tablet delayed release ec po q twenty four h every twenty four hours tolterodine tartrate two mg tablet sig one tablet po bid two times a day levothyroxine sodium seventy five mcg tablet sig one tablet po daily daily heparin lock flush porcine one hundred unitml syringe sig one ml intravenous daily daily as needed discharge disposition extended carefacility rehab centerdischarge diagnosis copd coronary artery diseaseatypical angina lad thirty percent rca thirty percent ef sixty three percent hypercholesterolemia hypothyroidism hypertension hiatal hernia cerebral vascular accident sp motor vehicle colision head injury rib fracture tbm sp tracheoplastydischarge condition gooddischarge instructions please update dr office for fever shortness of breath chest pain productive cough or if you have any questions or concerns \n",
            " allergies amlodipineattending chief complaint copd exacerbationshortness of breathmajor surgical or invasive procedure intubation arterial line placement picc line placement esophagogastroduodenoscopyhistory of present illness eighty seven yo f with ho chf copd on five l oxygen at baseline tracheobronchomalacia sp stent presents with acute dyspnea over several days and lethargy this morning patient developed an acute worsening in dyspnea and called ems ems found patient tachypnic at saturating ninety percent on five l patient was noted to be tripoding she was given a nebulizer and brought to the eraccording the patient s husband she was experiencing symptoms consistent with prior copd flares apparently patient was without cough chest pain fevers chills orthopnea pnd dysuria diarrhea confusion and neck pain her husband is a physician and gave her a dose of levaquin this morningin the ed patient was saturating ninety six percent on nrb cxr did not reveal any consolidation per report ekg was unremarkable laboratory evaluation revealed a leukocytosis if fourteen and lactate of two point two patient received combivent nebs solumedrol one hundred twenty five mg iv x one aspirin three hundred twenty five mg po x one mg sulfate two g iv x one azithromycin five hundred mg ivx one levofloxacin seven hundred fifty mg ivx one and cefrtiaxone one g ivx one patient became tachpnic so was trialed on non invasive ventilation but became hypotensive to systolics of eighty so noninvasive was removed and patient did well on nrb and nebulizers for about two hours at that time patient became agitated hypoxic to eighty seven percent and tachypnic to the fourty s so patient was intubated post intubation abg was seven point three sixty eighty eight thirty one propafol was switched to fentanylmidazolam for hypotension to the eighty s received two l of ns on transfer patient vs were one hundred two eighty seven thirty three one hundred percent on sixty percent four hundred fifty x eighteen peep five patient has peripheral access x twoin the icu patient appeared comfortablereview of sytems limited due to patient sedationpast medical historycopd flare fev one fourty percent in on five l oxygen sp intubation sp distal tracheal to left main stem stents placed stents dc d tracheobronchoplasty performed cad w atypical angina cath lad thirty percent rca thirty percent ef sixty three percent dyslipidemia hypothyroidism hypertension hiatal hernia lacunar cva sp ped struck head injury rib fx depression social history the patient is married and worked as a clinical psychologist her husband is a pediatric neurologist at they have several children one of which is a nurse with fourty pack years quit five years ago social ethanol user no history of ivdu but remote history of marijuana usefamily history fhx cad father with an mi in his fourty s died of a cva at age fifty ninephysical exam on admission vitals t bp one hundred sixteen fourty six p ninety two o two one hundred percent tv sixty percent four hundred fifty x eighteen peep five general intubated sedated no apparent discomfort heent sclera anicteric mmm oropharynx clear neck supple jvp not elevated no lad lungs crackles bases bilaterally cv regular rate and rhythm normal s one s two no murmurs rubs gallops abdomen soft non tender non distended bowel sounds present no rebound tenderness or guarding no organomegaly gu no foley ext warm well perfused two pulses no clubbing cyanosis or edemapertinent results initial labs blood wbc fourteen point one rbc four point twenty hgb twelve point six hct thirty nine point one mcv ninety three mch thirty point one mchc thirty two point three rdw twelve point six plt ct three hundred nineteen blood neuts ninety three point nine lymphs four point four monos one point three eos zero point two baso zero point two blood pt eleven point zero ptt twenty eight point seven inr pt zero point nine blood glucose one hundred sixty eight urean thirteen creat zero point eight na one hundred fourty k three point five cl ninety two hco three thirty six angap sixteen blood calcium eight point eight phos three point four mg two point onecardiac biomarkers blood ck cpk three hundred twenty one ctropnt zero point zero two blood ck cpk three hundred fourty five ck mb fourteen mb indx four point one ctropnt zero point zero one blood ck cpk eight hundred fourty five ck mb fifteen mb indx one point eight ctropnt zero point zero one blood ck cpk one thousand thirty ck mb fifteen mb indx one point five ctropnt zero point zero one blood ck cpk five hundred thirty ck mb nine ctropnt zero point zero one probnp two thousand five hundred thirty fivecxr impression hiatal hernia otherwise unremarkable limited examecho there is mild symmetric left ventricular hypertrophy with normal cavity size and regionalglobal systolic function lvef fifty five percent the estimated cardiac index is normal two point five lminm two tissue doppler imaging suggests an increased left ventricular filling pressure pcwp eighteen mmhg right ventricular chamber size is normal with normal free wall contractility the aortic valve leaflets are mildly thickened but aortic stenosis is not present no aortic regurgitation is seen the mitral valve leaflets are mildly thickened there is no mitral valve prolapse mild one mitral regurgitation is seen the tricuspid valve leaflets are mildly thickened there is moderate pulmonary artery systolic hypertension there is an anterior space which most likely represents a prominent fat pad impression normal biventricular systolic function moderate pulmonary artery systolic hypertensioncxr kyphotic positioning compared with one day earlier and allowing for technical differences the right sided effusion may be slightly larger otherwise no significant change is detected again seen is retrocardiac opacity consistent with left lower lobe collapse andor consolidation and a small left effusion as noted a right effusion is again seen possibly slightly larger on the current examination with underlying collapse andor consolidation doubt chf degenerative changes of the thoracic spine are notedcardiac enzymes trop zero point zero one trop zero point zero three trop zero point zero twolabs at dischargeblood wbc nine point five rbc three point zero eight hgb nine point six hct twenty eight point three mcv ninety two mch thirty one point two mchc thirty three point nine rdw thirteen point five plt ct three hundred sixty blood pt ten point four ptt twenty two point eight inr pt zero point eight blood glucose one hundred fourteen urean eighteen creat zero point eight na one hundred fourty two k three point five cl one hundred one hco three thirty six angap nine blood calcium eight point nine phos two point eight mg two point three blood tsh zero point eighty sevenbrief hospital course eighty seven yo f with ho chf copd on five l oxygen at baseline tracheobronchomalacia sp stent presents with acute dyspnea over several days no sp intubation for hypercarbic respiratory failurehypercarbic respiratory failure presents with dyspnea but no clear cough or fevers per report patient felt like this with prior copd exacerbations leukocytosis supports possible pneumonia but history and cxr not entirely consistent with this ekg with signs of demand but romi negative sputum gram stain unremarkable but respitatory viral culture grew parainfluenze type three on patient was initially managed on solumedrol sixty mg iv q eight h and was eventually tapered with no evidence of pneumonia on cxr and sputum gram stain antibiotics were stopped beta agonists and anticholinergics were continued around the clock tte revealed mild symmetric lvh with normal ef increased pcwp eighteen mmhg normal rv and moderate pulmonary artery systolic hypertension on bronchoscopy revealed collapsible unremarkable airways patient had difficulty weaning from the vent and would become interimittenty hypertensive to sbp two hundred s and tachypnic to the fifty s patient was extubatied on after passing sbt zero five but required re intubation thirty minutes later for worsening secretions lack of gag reflex and tachypnea to the fifty s of note on the patient was found to have mrsa growing in sputum samples although it was felt that this likely represented colonization as opposed to true infection the patient was started on a course of vancomycin which was stopped after five days after multiple discussions between the patient s family and the icu team the patient s pcp the palliative care service the patient s family ultimately decided that she would not want a tracheostomy on extubation was pursued again and was successful after extubation her respiratory status improved and she was ultimately called out to the medical floor on the floor she was progressively weaned to two lnc with nebs better than her baseline five l @home because of clinical exams revealing mild volume overload she was intermittently diuresed she also experienced intermittent shortness of breath with tachypnea but this was thought to be the result of attacks of anxiety with tachypnea after receiving prn morphine her breathing status would typically improve a steroid taper was begun the patient should continue prednisone thirty mg daily for three more days then twenty mg daily for four days then ten mg daily for four days then five mg daily for four days then stopupper gi bleeding on patient had coffee grounds from og tube lavage for approx six hundred ccs with clearance gi perfomred egd which revealed esophagitis ulcers and blood in the stomach body d two diverticulum and large hiatal hernia h pylori was negative patient was continued on iv ppi with plan for repeat egd in eight weeks and upper gi series once clinically improved given abnormal anatomy on egd her hematocrit remained stable with no further episodes of upper gi bleeding throughout the patient s hospitalization on the floor she was switched to po pantoprazole twice daily aspirin was heldweakness the patient was found to have generalized weakness at the end of her hospitalization neurology was consulted and they felt it was likely due to a combination of steroid myopathy and deconditioning from her prolonged bedbound status a tsh was checked which was normal they recommended pulmonary and physical rehabcad history of lad and rca stenosis on cath but no stents continued statin and beta blocker but held aspirin for gi bleeding see abovenutrition unable to pass ng without direct visualization due to hiatal hernia ir guided post pyloric ng tube was placed on for tfs and po medications ng tube was pulled when patient was extubated on speech and swallow were consulted following the patient s extubation and she was eventually moved to soft solids and thin liquids with one one supervisiongoals of care pcp was very involved in discussions regarding patient s code status palliative care also followed along with the patient ultimately at the time of the patient s extubation on it was decided that the patient would be dnrdni although this was later change the patient s family felt that she would not want a tracheostomy it was decided that she would not be reintubated and that if her respiratory status were to worsen after intubation care would be focused on comfort however her status improved in the micu and on the floor and it was then decided that she would remain dnr with intubation but no tracheostomy if her breathing deteriorated after several days with stable or improved overall clinical status she was deemed suitable for rehabilitation at the timem of discharge the patient s code status was do not resuscitate okay to intubatemedications on admissionomeprazole twenty mg daily furosemide twenty mg daily toprol xl fifty mg daily lipitor twenty mg daily folic acid one mg daily centrum daily diovan eighty mg daily trazodone seventy five one hundred mg qhs melatonin three mg qhs aspirin three hundred twenty five mg daily albuterol neb prn duoneb prn advair two hundred fifty fifty zolpidem two point five mg qhs prn synthroid one hundred mcg daily lexapro twenty mg daily discharge medicationsmetoprolol succinate fifty mg tablet sustained release twenty four hr sig one tablet sustained release twenty four hr po once a day atorvastatin twenty mg tablet sig one tablet po daily daily folic acid one mg tablet sig one tablet po daily daily multivitamin tablet sig one tablet po daily daily trazodone fifty mg tablet sig one tablet po at bedtime as needed for insomnia melatonin three mg tablet sig one tablet po at bedtime valsartan one hundred sixty mg tablet sig one point five tablets po once a day albuterol sulfate two point five mg three ml zero point zero eighty three percent solution for nebulization sig one neb inhalation every four six hours as needed for shortness of breath or wheezing duoneb zero point five mg three mg two point five mg base three ml solution for nebulization sig one neb inhalation every six hours as needed for shortness of breath or wheezing fluticasone salmeterol two hundred fifty fifty mcgdose disk with device sig one puff inhalation twice a day escitalopram ten mg tablet sig two tablet po daily daily levothyroxine one hundred mcg tablet sig one tablet po daily daily prednisone twenty mg tablet sig one tablet po daily for four days start after three days of thirty mg daily prednisone ten mg tablet sig one tablet po daily for four days start after four days of twenty mg daily prednisone five mg tablet sig one tablet po daily for four days start after four days of ten mg daily hydrochlorothiazide twelve point five mg capsule sig one capsule po daily daily pantoprazole fourty mg tablet delayed release ec sig one tablet delayed release ec po twice a day morphine ten mg five ml solution sig five mg po every four hours as needed for respiratory discomfort hold for oversedation or rr twelve prednisone ten mg tablet sig three tablet po once a day for three days colace one hundred mg capsule sig one capsule po twice a day senna eight point six mg tablet sig one tablet po twice a day as needed for constipation humalog insulin sliding scale please use attached humalog insulin sliding scale while on steroids discharge disposition extended carefacility center atdischarge diagnosis primarychronic obstructive pulmonary disease exacerbation respiratory failure with intubation upper gastrointestinal bleedpeptic ulcer disease hypertension anxiety secondarycoronary artery disease hypothyroidism discharge condition mental status confused sometimes level of consciousness alert and interactive activity status out of bed with assistance to chair or wheelchairdischarge instructions you were admitted to the hospital with shortness of breath and respiratory failure and lethargy in the emergency department you were breathing very fast and a breathing tube was inserted into your airway to help you breathe you were admitted to the intensive care unit there you were managed with steroids and antibiotics and the tube was eventually removed from your airway allowing you to breathe on your own you also underwent bronchoscopy which looked at the inside of your airwaysduring your time in the intensive care unit you developed a gastrointestinal bleed a tube was placed into your stomach and you underwent an endoscopic procedure to look at your esophagus and stomach this showed inflammation in your esophagusand ulcers in your stomachyou should continue to use nasal oxygen by nasal cannula as needed you should continue the steroid taper as instructed you should call your doctor or return to the emergency room if you have increasing difficulty breathing or shortness of breath wheezing chest pain blood in your stool or vomiting bloodthere are some changes in your medications start pantoprazole fourty mg twice daily and stop omeprazole start hydrochlorothiazide start prednisone taking thirty mg for three days then twenty mg for four days then ten mg for four days then five mg for four days then stop start colace and senna as needed for constipation can use morphine to alleviate symptoms of respiratory discomfort stop furosemide stop zolpidem stop aspirin increase diovan to two hundred fourty mg daily decrease trazodone to fifty mg dailyfollow up as indicated belowfollowup instructions you have an appointment to follow up with dr your primary care physician at one pm his address is the phone isyou have an appointment to follow up with dr in the clinic on at three pm in the at on the their phone number isdepartment div of gastroenterology when at pm with building ra complex campus east best parking main garage \n",
            " allergies patient recorded as having no known allergies to drugsattending chief complaint mr was seen at after a mechanical fall from a height of ten feet ct scan noted unstable fracture of c six seven posterior elementsmajor surgical or invasive procedureanterior cervical osteotomy c six c seven with decompression and excision of ossification of the posterior longitudinal ligament anterior cervical deformity correction interbody reconstruction anterior cervical fusion c five c six c seven plate instrumentation c five c six c seven cervical laminectomy c six c seven t one posterior cervical arthrodesis c four t one cervical instrumentation c four t one arthrodesis augmentation with autograft allograft and demineralized bone matrix history of present illness mr is a eighty two year old male who had a slip and fall of approximately ten feet from a balcony he was ambulatory at the scene he presented to the ed here at ct scan revealed unstable c spine fracture he was intubated secondary to agitationpatient admitted to trauma surgery servicepast medical history coronary artery disease sp cabg chf htn aicd atrial fibrillation strokesocial history patient recently discharged from for severe depression family reports patient was very sad and attempted to kill himself by wrapping a telephone cord around his neck lives with his elderly wife worked as a chemist infamily history non contributoryphysical exam phycial exam prior to surgery was not obtained since patient was intubated and sedatedpost surgical physical exam tsicu per surgery teambreathing without assistance nad vitals t ninety seven point five hr sixty one bp one hundred fourty five sixty seven rr twenty two sao two ninety eight a fib rate controlled abd soft non tender anteriorposterior cervical incisions pt is edemitous in all four extremities no facial edema able to grossly move all four extremities neurointact to light touch distal pulses weakly intactmedicine consult vs tmc ninety eight point nine one hundred fourty two seventy sixty one twenty ninety six percentra io bm yesterday two hundred twenty seven hundred seventy gen awake calm cooperative and pleasant lying in bed neck c collar removed cv irregular normal s one s two no mrg lungs cta anteriolry abd obese soft ntnd decreased bs ext trace bl le edema one ue edema neurocognition thought eight not to placepertinent results admission labswbc eight point four rbc four point fourty three hgb eleven point nine hct thirty eight point six mcv eighty seven mch twenty six point nine mchc thirty point nine rdw seventeen point three plt ct one hundred ninety one pt twenty point four ptt twenty eight point one inr pt one point nine ck cpk one hundred eighty three amylase seventy calcium eight point five phos two point zero mg one point nine glucose one hundred twenty one lactate two point three na one hundred fourty k four point three cl one hundred one calhco three twenty sixradiologyct scan c spine impressionfracture of the c six as described involving the right pedicle extending to the inferior facet and left lamina anterior widening at the c six seven disc space and mild widening of left c six seven facet also noted prevertebral hematoma at c six with likely rupture of the anterior longitudinal ligament lucency in the right posterior c one ring may represent a chronic injury likely old avulsion fracture at t two pedicle on the left ossification of both anterior and posterior longitudinal ligaments with compromise of the central spinal canal degenerative disease is further described above ct abdomenpelvis impressionno acute injuries in the chest abdomen or pelvis three discrete pleural fluid collections in the right hemithorax likely pseudotumors small hypodense lesion in the pancreatic body is of unclear etiology may represent pseudicyst or cystic tumor further evaluation with mri may be performed on a non emergent basis bilateral renal cysts foley catheter balloon inflated within the prostatic urethra recommend emergent repositioning ct sinusmaxillofacialbilateral nasal bone fractures left frontal scalp hematoma with preseptal soft tissue swelling question foreign body anterior to the left globe recommend clinical correlation small amount of extraconal hematoma in the superior aspect of the left orbit linear lucency in the right posterior ring of c one correlate with ct c spine performed concurrently head ctno acute intracranial hemprrhage left frontal scalp hematoma nasal bone fractures recommend correlation with report from facial bone ct scan lucency in the right posterior ring of c one please refer to dedeicated ct c spine for further detail left cerebellar encephalomalacia likely due to old infarction chest the dobbhoff tube passes below the diaphragm with its tip most likely terminating in the stomach the bilateral pacemakers are demonstrated with one lead terminating in right atrium and three leads terminating in right ventricle the patient is in mild pulmonary edema with no change in the loculated pleural fluid within the major fissurect heada tiny amount of intraventricular hemorrhage layers along the occipital horns of the ventricles bilaterally recommend followp imaging left frontal scalp hematoma has decreased in size unchanged left cerebellar encephalomalacia nasal bone fractures are better evaluated on dedicated maxillofacial ct right shoulder x ray mild glenohumeral and acromioclavicular joint osteoarthritis nonspecific ossification projecting over the upper margin of the scapular body and adjacent to the lesser tuberosity diagnostic considerations include the sequela of chronic calcific bursitis intraarticular bodies andor calcific tendinitis of the subscapularis tendon increased opacity projecting over the right hemithorax and minor fissure better delineated on recent chest radiographs and chest ctright upper extremity ultrasounddeep venous thrombosis in the right axillary vein extending proximally into the right subclavian vein and distally to involve the brachial veins portion of the basilic vein and the right cephalic vein likely two point zero cm left axillary lymph node with unusual son features somewhat suspicious for malignancy followup ultrasound is recommended in four weeks and fnabiopsy may be considered at that time if no interval improvement ct abdomen with iv contrast there are small to moderate bilateral pleural effusions on the right with a loculated appearance there is associated compressive atelectasis the visualized portion of the heart suggests mild cardiomegaly there is no pericardial effusion there is a nine mm hypoattenuating well defined lesion in the left lobe of the liver too small to accurately characterize but statistically most likely representing a cyst there are bilateral partially exophytic renal cysts the spleen is normal in size there is a five mm hypoattenuating focus in the pancreatic body most likely representing focal fat the gallbladder and adrenal glands are unremarkable an ng tube terminates in the stomach there is no ascites the large and small bowel loops appear unremarkable without wall thickening or pneumatosis oral contrast material has passed into the ascending colon without evidence of obstruction there is no ascites and no free air there is a small pocket of air in the left rectus muscle tracking over a distance of approximately ten cmct pelvis with iv contrast the pelvic small and large bowel loops collapsed bladder containing foley catheter and seminal vesicles appear unremarkable the prostate is enlarged measuring five point nine cm in transverse diameter the rectum contains a moderate amount of dried stool there is no free air or free fluidbone windows no suspicious lytic or sclerotic lesions there is dish of the entire visualized thoracolumbar spine there also are degenerative changes about the hip joints with large acetabular osteophytesimpressionstable bilateral pleural effusions loculated on the right new focus of air tracking within the left rectus muscle with associated tiny amount of extraperitoneal air no associated stranding or fluid collection please correlate clinically if this could be iatrogenic such as due to sq injections five mm hypoattenuating focus in the pancreatic body this could represent focal fat although a cystic tumor cannot be excluded if this is of concern then mri is again recommended for further evaluation hypoattenuating focus in the left lobe of the liver too small to accurately characterize bilateral partially exophytic renal cysts moderate amount of dried stool within the rectum a wet read was placed and the pertinent findings were discussed by dr with dr at pm onvideo oropharyngeal swallow findings real time video fluoroscopic evaluation was performed after oral administration of thin and puree consistency of barium in conjunction with the speech pathologistoral phase normal bolus formation bolus control ap tongue movement oral transit time and no oral cavity residuepharyngeal phase there is normal swallow initiation and velar elevation there is mild to moderate impairment of laryngeal elevation with absent epiglottic deflection there is moderate to severe increase in pharyngeal transit time there is residue in the valleculae and piriform sinuses with moderate impairment of bolus propulsion there was aspiration of both thin and puree bariumimpression aspiration of thin liquids and puree for additional information please see the speech and swallow therapist s report from the same dayct head wout findings there is a small amount of blood layering in the occipital horns of both lateral ventricles unchanged though not as dense given evolution no new hemorrhage is identified the ventricles cisterns and sulci are enlarged secondary to involutional change periventricular white matter hyperdensities are sequelae of chronic small vessel ischemia encephalomalacia in the left cerebellar hemisphere secondary to old infarction is unchanged the osseous structures are unremarkable the visualized paranasal sinuses and mastoid air cells are clear skin staples are noted along the superior posterior neck secondary to recent spinal surgeryimpression no interval change with a very small intraventricular hemorrhageno discharge labs as patient cmobrief hospital course mr was seen at after his fall from a height of approximatly ten feet ct scans of his chest abdomen and pelvis were negative for pathology ct scan of his c spine showed fracture of anterior and posterior elements at c six seven he was also shown to have a right nasal bone fracturec spine fracture mr two surgical procedures to stabilized his c spine anterior cervical decompressionfusion at c six seven cervical laminectomy c six c seven t one with posterior cervical arthrodesis c four t one he tolerated the procedures well he was extubated without complicationafter his surgical procedures mr was transfered to the medicine service at for his medical care while on the medicine service patient was found to be persistently aspirating and failed his speech and swallow evaluation patient and family were not interested in an ng tube or peg for nutrition patient also developed a venous clot of the right upper extremity and the decision was made to not proceed with medical treatment goals of care were changed to comfort measures only a foley was placed after patient had difficulty with urinary retention and straight cathing a palliative care consult was obtained for symptom management and patient was discharged to hospice with morphine olanzapine and a foley in place for symptomatic reliefmedications on admission coumadin seroquel docusate metoprolol folate lovastatin captopril asa ipratroium inhaler ferrous sulfate furosemide citalopram isosorbide meprazoledischarge medicationsbisacodyl ten mg suppository sig suppositorys rectal daily daily as needed for constipation ipratropium bromide zero point zero two percent solution sig one nebulizer inhalation q six h every six hours as needed for wheezing albuterol sulfate two point five mg three ml solution for nebulization sig one solution inhalation q six h every six hours as needed for wheezing morphine concentrate twenty mgml solution sig five ten mg po q four h every four hours as needed for pain may shorten interval as needed to control pain olanzapine five mg tablet rapid dissolve sig zero point five tablet rapid dissolve po qhs once a day at bedtime as needed for agitation tamsulosin zero point four mg capsule sust release twenty four hr sig one capsule sust release twenty four hr po daily daily may be discontinued if patient not tolerating pills or refusing to take discharge disposition extended carefacility ofdischarge diagnosiscervical spondylosis with calcification of posterior longitudinal ligament fracture dislocation c six c seven ossification of the posterior longitudinal ligament aspiration pneumonia cervical spondylosis with calcification of posterior longitudinal ligament fracture dislocation c six c seven ossification of the posterior longitudinal ligament aspiration pneumonia cervical spondylosis with calcification of posterior longitudinal ligament fracture dislocation c six c seven ossification of the posterior longitudinal ligament aspiration pneumonia discharge condition stable to outside facilitydischarge instructions patient has been made cmo at the request of him and his family he has a foley placed for urinary retention please use morphine as needed for pain and olanzapine as needed for agitiation patient has known history of aspiration documented on speech and swallow it is the patient and the family s wish for him to continue to eat and drink as desiredfollowup instructions follow up with your primary care physician as needed \n"
          ]
        }
      ],
      "source": [
        "for i in range(5):\n",
        "    row = data.iloc[i]\n",
        "    text_value = row['text']\n",
        "    print(text_value)"
      ]
    },
    {
      "cell_type": "code",
      "source": [
        "data_copy = data.iloc[:200].copy()"
      ],
      "metadata": {
        "id": "QDQ77hvtR687"
      },
      "execution_count": null,
      "outputs": []
    },
    {
      "cell_type": "code",
      "source": [
        "import pandas as pd\n",
        "\n",
        "TUIs = [\"T020\",\"T190\",\"T049\",\"T019\",\"T047\",\"T050\",\"T033\",\"T037\",\"T048\",\"T191\",\"T046\",\"T184\",\"T038\",\"T069\",\"T068\",\"T034\",\"T070\",\"T067\",\"T043\",\"T201\",\"T045\",\"T041\",\"T044\",\"T032\",\"T040\",\"T042\",\"T039\",\"T116\",\"T195\",\"T123\",\"T122\",\"T103\",\"T120\",\"T104\",\"T200\",\"T196\",\"T126\",\"T131\",\"T125\",\"T129\",\"T130\",\"T197\",\"T114\",\"T109\",\"T121\",\"T192\",\"T127\"]\n",
        "\n",
        "# Load your data into a DataFrame\n",
        "\n",
        "for idx, row in data.iterrows():\n",
        "    line = row['text']  # Get the value in the \"text\" column for the current row\n",
        "\n",
        "    cui_set = set()\n",
        "    term_set = set()\n",
        "\n",
        "    matches = matcher.match(line, best_match=True, ignore_syntax=False)\n",
        "\n",
        "    for phrase_candidate in matches:\n",
        "        # Find max\n",
        "        max_similarity = 0\n",
        "        for candidate in phrase_candidate:\n",
        "            if candidate['similarity'] > max_similarity and set(candidate['semtypes']).intersection(TUIs):\n",
        "                max_similarity = candidate['similarity']\n",
        "        # Get preferred terms for that max\n",
        "        if max_similarity >= 0:\n",
        "            for candidate in phrase_candidate:\n",
        "                if candidate['similarity'] == max_similarity:\n",
        "                    if candidate['term'] not in term_set:\n",
        "                        if candidate['cui'] not in cui_set:\n",
        "                            cui_set.add(candidate['cui'])\n",
        "                            term_set.add(candidate['term'])\n",
        "\n",
        "    # Add cui_set and term_set to the DataFrame as new columns\n",
        "    data.at[idx, 'cui_set'] = list(cui_set)\n",
        "    data.at[idx, 'term_set'] = list(term_set)\n",
        "\n",
        "    print(f\"Processed row {idx + 1}\")\n",
        "    print(f\"CUIs extracted: {data.at[idx, 'cui_set']}\")\n",
        "\n",
        "print(data)\n"
      ],
      "metadata": {
        "id": "Lz50k8gQCUPA"
      },
      "execution_count": null,
      "outputs": []
    },
    {
      "cell_type": "code",
      "source": [
        "#  len(data. index)"
      ],
      "metadata": {
        "colab": {
          "base_uri": "https://localhost:8080/"
        },
        "id": "CIHE7-YyPbQ3",
        "outputId": "cc31ee85-bfe5-48fe-a812-027d387d2f6e"
      },
      "execution_count": null,
      "outputs": [
        {
          "output_type": "execute_result",
          "data": {
            "text/plain": [
              "4914"
            ]
          },
          "metadata": {},
          "execution_count": 4
        }
      ]
    },
    {
      "cell_type": "code",
      "source": [
        "data"
      ],
      "metadata": {
        "colab": {
          "base_uri": "https://localhost:8080/",
          "height": 641
        },
        "id": "esg4GpxVPboA",
        "outputId": "7bdc13ad-1566-4b21-cd67-fb0341bc0bb7"
      },
      "execution_count": null,
      "outputs": [
        {
          "output_type": "execute_result",
          "data": {
            "text/plain": [
              "      row_id  subject_id  hadm_id   chartdate  charttime  storetime  \\\n",
              "0        174       22532   167853  2151-08-04        NaN        NaN   \n",
              "1        175       13702   107527  2118-06-14        NaN        NaN   \n",
              "2        176       13702   167118  2119-05-25        NaN        NaN   \n",
              "3        177       13702   196489  2124-08-18        NaN        NaN   \n",
              "4        178       26880   135453  2162-03-25        NaN        NaN   \n",
              "...      ...         ...      ...         ...        ...        ...   \n",
              "4909    5097       61791   176839  2187-05-07        NaN        NaN   \n",
              "4910    5098       27841   149471  2120-01-27        NaN        NaN   \n",
              "4911    5099        6983   173511  2177-08-06        NaN        NaN   \n",
              "4912    5100        6983   151448  2177-08-21        NaN        NaN   \n",
              "4913    5101        6576   156170  2102-06-14        NaN        NaN   \n",
              "\n",
              "               category description  cgid  iserror  \\\n",
              "0     discharge summary      report   NaN      NaN   \n",
              "1     discharge summary      report   NaN      NaN   \n",
              "2     discharge summary      report   NaN      NaN   \n",
              "3     discharge summary      report   NaN      NaN   \n",
              "4     discharge summary      report   NaN      NaN   \n",
              "...                 ...         ...   ...      ...   \n",
              "4909  discharge summary      report   NaN      NaN   \n",
              "4910  discharge summary      report   NaN      NaN   \n",
              "4911  discharge summary      report   NaN      NaN   \n",
              "4912  discharge summary      report   NaN      NaN   \n",
              "4913  discharge summary      report   NaN      NaN   \n",
              "\n",
              "                                                   text cui_set term_set  \n",
              "0      radiologic studies radiologic studies also in...    None     None  \n",
              "1      history of present illness this is an eighty ...    None     None  \n",
              "2      allergies amlodipineattending chief complaint...    None     None  \n",
              "3      allergies amlodipineattending chief complaint...    None     None  \n",
              "4      allergies patient recorded as having no known...    None     None  \n",
              "...                                                 ...     ...      ...  \n",
              "4909   allergies no known allergies adverse drug rea...    None     None  \n",
              "4910   allergies patient recorded as having no known...    None     None  \n",
              "4911   history of the present illness the patient is...    None     None  \n",
              "4912   history of present illness the patient is a s...    None     None  \n",
              "4913   allergies erythromycin base ampicillin levofl...    None     None  \n",
              "\n",
              "[4914 rows x 13 columns]"
            ],
            "text/html": [
              "\n",
              "  <div id=\"df-c22cbd23-d1a3-43e7-bfae-460f027e9f04\">\n",
              "    <div class=\"colab-df-container\">\n",
              "      <div>\n",
              "<style scoped>\n",
              "    .dataframe tbody tr th:only-of-type {\n",
              "        vertical-align: middle;\n",
              "    }\n",
              "\n",
              "    .dataframe tbody tr th {\n",
              "        vertical-align: top;\n",
              "    }\n",
              "\n",
              "    .dataframe thead th {\n",
              "        text-align: right;\n",
              "    }\n",
              "</style>\n",
              "<table border=\"1\" class=\"dataframe\">\n",
              "  <thead>\n",
              "    <tr style=\"text-align: right;\">\n",
              "      <th></th>\n",
              "      <th>row_id</th>\n",
              "      <th>subject_id</th>\n",
              "      <th>hadm_id</th>\n",
              "      <th>chartdate</th>\n",
              "      <th>charttime</th>\n",
              "      <th>storetime</th>\n",
              "      <th>category</th>\n",
              "      <th>description</th>\n",
              "      <th>cgid</th>\n",
              "      <th>iserror</th>\n",
              "      <th>text</th>\n",
              "      <th>cui_set</th>\n",
              "      <th>term_set</th>\n",
              "    </tr>\n",
              "  </thead>\n",
              "  <tbody>\n",
              "    <tr>\n",
              "      <th>0</th>\n",
              "      <td>174</td>\n",
              "      <td>22532</td>\n",
              "      <td>167853</td>\n",
              "      <td>2151-08-04</td>\n",
              "      <td>NaN</td>\n",
              "      <td>NaN</td>\n",
              "      <td>discharge summary</td>\n",
              "      <td>report</td>\n",
              "      <td>NaN</td>\n",
              "      <td>NaN</td>\n",
              "      <td>radiologic studies radiologic studies also in...</td>\n",
              "      <td>None</td>\n",
              "      <td>None</td>\n",
              "    </tr>\n",
              "    <tr>\n",
              "      <th>1</th>\n",
              "      <td>175</td>\n",
              "      <td>13702</td>\n",
              "      <td>107527</td>\n",
              "      <td>2118-06-14</td>\n",
              "      <td>NaN</td>\n",
              "      <td>NaN</td>\n",
              "      <td>discharge summary</td>\n",
              "      <td>report</td>\n",
              "      <td>NaN</td>\n",
              "      <td>NaN</td>\n",
              "      <td>history of present illness this is an eighty ...</td>\n",
              "      <td>None</td>\n",
              "      <td>None</td>\n",
              "    </tr>\n",
              "    <tr>\n",
              "      <th>2</th>\n",
              "      <td>176</td>\n",
              "      <td>13702</td>\n",
              "      <td>167118</td>\n",
              "      <td>2119-05-25</td>\n",
              "      <td>NaN</td>\n",
              "      <td>NaN</td>\n",
              "      <td>discharge summary</td>\n",
              "      <td>report</td>\n",
              "      <td>NaN</td>\n",
              "      <td>NaN</td>\n",
              "      <td>allergies amlodipineattending chief complaint...</td>\n",
              "      <td>None</td>\n",
              "      <td>None</td>\n",
              "    </tr>\n",
              "    <tr>\n",
              "      <th>3</th>\n",
              "      <td>177</td>\n",
              "      <td>13702</td>\n",
              "      <td>196489</td>\n",
              "      <td>2124-08-18</td>\n",
              "      <td>NaN</td>\n",
              "      <td>NaN</td>\n",
              "      <td>discharge summary</td>\n",
              "      <td>report</td>\n",
              "      <td>NaN</td>\n",
              "      <td>NaN</td>\n",
              "      <td>allergies amlodipineattending chief complaint...</td>\n",
              "      <td>None</td>\n",
              "      <td>None</td>\n",
              "    </tr>\n",
              "    <tr>\n",
              "      <th>4</th>\n",
              "      <td>178</td>\n",
              "      <td>26880</td>\n",
              "      <td>135453</td>\n",
              "      <td>2162-03-25</td>\n",
              "      <td>NaN</td>\n",
              "      <td>NaN</td>\n",
              "      <td>discharge summary</td>\n",
              "      <td>report</td>\n",
              "      <td>NaN</td>\n",
              "      <td>NaN</td>\n",
              "      <td>allergies patient recorded as having no known...</td>\n",
              "      <td>None</td>\n",
              "      <td>None</td>\n",
              "    </tr>\n",
              "    <tr>\n",
              "      <th>...</th>\n",
              "      <td>...</td>\n",
              "      <td>...</td>\n",
              "      <td>...</td>\n",
              "      <td>...</td>\n",
              "      <td>...</td>\n",
              "      <td>...</td>\n",
              "      <td>...</td>\n",
              "      <td>...</td>\n",
              "      <td>...</td>\n",
              "      <td>...</td>\n",
              "      <td>...</td>\n",
              "      <td>...</td>\n",
              "      <td>...</td>\n",
              "    </tr>\n",
              "    <tr>\n",
              "      <th>4909</th>\n",
              "      <td>5097</td>\n",
              "      <td>61791</td>\n",
              "      <td>176839</td>\n",
              "      <td>2187-05-07</td>\n",
              "      <td>NaN</td>\n",
              "      <td>NaN</td>\n",
              "      <td>discharge summary</td>\n",
              "      <td>report</td>\n",
              "      <td>NaN</td>\n",
              "      <td>NaN</td>\n",
              "      <td>allergies no known allergies adverse drug rea...</td>\n",
              "      <td>None</td>\n",
              "      <td>None</td>\n",
              "    </tr>\n",
              "    <tr>\n",
              "      <th>4910</th>\n",
              "      <td>5098</td>\n",
              "      <td>27841</td>\n",
              "      <td>149471</td>\n",
              "      <td>2120-01-27</td>\n",
              "      <td>NaN</td>\n",
              "      <td>NaN</td>\n",
              "      <td>discharge summary</td>\n",
              "      <td>report</td>\n",
              "      <td>NaN</td>\n",
              "      <td>NaN</td>\n",
              "      <td>allergies patient recorded as having no known...</td>\n",
              "      <td>None</td>\n",
              "      <td>None</td>\n",
              "    </tr>\n",
              "    <tr>\n",
              "      <th>4911</th>\n",
              "      <td>5099</td>\n",
              "      <td>6983</td>\n",
              "      <td>173511</td>\n",
              "      <td>2177-08-06</td>\n",
              "      <td>NaN</td>\n",
              "      <td>NaN</td>\n",
              "      <td>discharge summary</td>\n",
              "      <td>report</td>\n",
              "      <td>NaN</td>\n",
              "      <td>NaN</td>\n",
              "      <td>history of the present illness the patient is...</td>\n",
              "      <td>None</td>\n",
              "      <td>None</td>\n",
              "    </tr>\n",
              "    <tr>\n",
              "      <th>4912</th>\n",
              "      <td>5100</td>\n",
              "      <td>6983</td>\n",
              "      <td>151448</td>\n",
              "      <td>2177-08-21</td>\n",
              "      <td>NaN</td>\n",
              "      <td>NaN</td>\n",
              "      <td>discharge summary</td>\n",
              "      <td>report</td>\n",
              "      <td>NaN</td>\n",
              "      <td>NaN</td>\n",
              "      <td>history of present illness the patient is a s...</td>\n",
              "      <td>None</td>\n",
              "      <td>None</td>\n",
              "    </tr>\n",
              "    <tr>\n",
              "      <th>4913</th>\n",
              "      <td>5101</td>\n",
              "      <td>6576</td>\n",
              "      <td>156170</td>\n",
              "      <td>2102-06-14</td>\n",
              "      <td>NaN</td>\n",
              "      <td>NaN</td>\n",
              "      <td>discharge summary</td>\n",
              "      <td>report</td>\n",
              "      <td>NaN</td>\n",
              "      <td>NaN</td>\n",
              "      <td>allergies erythromycin base ampicillin levofl...</td>\n",
              "      <td>None</td>\n",
              "      <td>None</td>\n",
              "    </tr>\n",
              "  </tbody>\n",
              "</table>\n",
              "<p>4914 rows × 13 columns</p>\n",
              "</div>\n",
              "      <button class=\"colab-df-convert\" onclick=\"convertToInteractive('df-c22cbd23-d1a3-43e7-bfae-460f027e9f04')\"\n",
              "              title=\"Convert this dataframe to an interactive table.\"\n",
              "              style=\"display:none;\">\n",
              "        \n",
              "  <svg xmlns=\"http://www.w3.org/2000/svg\" height=\"24px\"viewBox=\"0 0 24 24\"\n",
              "       width=\"24px\">\n",
              "    <path d=\"M0 0h24v24H0V0z\" fill=\"none\"/>\n",
              "    <path d=\"M18.56 5.44l.94 2.06.94-2.06 2.06-.94-2.06-.94-.94-2.06-.94 2.06-2.06.94zm-11 1L8.5 8.5l.94-2.06 2.06-.94-2.06-.94L8.5 2.5l-.94 2.06-2.06.94zm10 10l.94 2.06.94-2.06 2.06-.94-2.06-.94-.94-2.06-.94 2.06-2.06.94z\"/><path d=\"M17.41 7.96l-1.37-1.37c-.4-.4-.92-.59-1.43-.59-.52 0-1.04.2-1.43.59L10.3 9.45l-7.72 7.72c-.78.78-.78 2.05 0 2.83L4 21.41c.39.39.9.59 1.41.59.51 0 1.02-.2 1.41-.59l7.78-7.78 2.81-2.81c.8-.78.8-2.07 0-2.86zM5.41 20L4 18.59l7.72-7.72 1.47 1.35L5.41 20z\"/>\n",
              "  </svg>\n",
              "      </button>\n",
              "      \n",
              "  <style>\n",
              "    .colab-df-container {\n",
              "      display:flex;\n",
              "      flex-wrap:wrap;\n",
              "      gap: 12px;\n",
              "    }\n",
              "\n",
              "    .colab-df-convert {\n",
              "      background-color: #E8F0FE;\n",
              "      border: none;\n",
              "      border-radius: 50%;\n",
              "      cursor: pointer;\n",
              "      display: none;\n",
              "      fill: #1967D2;\n",
              "      height: 32px;\n",
              "      padding: 0 0 0 0;\n",
              "      width: 32px;\n",
              "    }\n",
              "\n",
              "    .colab-df-convert:hover {\n",
              "      background-color: #E2EBFA;\n",
              "      box-shadow: 0px 1px 2px rgba(60, 64, 67, 0.3), 0px 1px 3px 1px rgba(60, 64, 67, 0.15);\n",
              "      fill: #174EA6;\n",
              "    }\n",
              "\n",
              "    [theme=dark] .colab-df-convert {\n",
              "      background-color: #3B4455;\n",
              "      fill: #D2E3FC;\n",
              "    }\n",
              "\n",
              "    [theme=dark] .colab-df-convert:hover {\n",
              "      background-color: #434B5C;\n",
              "      box-shadow: 0px 1px 3px 1px rgba(0, 0, 0, 0.15);\n",
              "      filter: drop-shadow(0px 1px 2px rgba(0, 0, 0, 0.3));\n",
              "      fill: #FFFFFF;\n",
              "    }\n",
              "  </style>\n",
              "\n",
              "      <script>\n",
              "        const buttonEl =\n",
              "          document.querySelector('#df-c22cbd23-d1a3-43e7-bfae-460f027e9f04 button.colab-df-convert');\n",
              "        buttonEl.style.display =\n",
              "          google.colab.kernel.accessAllowed ? 'block' : 'none';\n",
              "\n",
              "        async function convertToInteractive(key) {\n",
              "          const element = document.querySelector('#df-c22cbd23-d1a3-43e7-bfae-460f027e9f04');\n",
              "          const dataTable =\n",
              "            await google.colab.kernel.invokeFunction('convertToInteractive',\n",
              "                                                     [key], {});\n",
              "          if (!dataTable) return;\n",
              "\n",
              "          const docLinkHtml = 'Like what you see? Visit the ' +\n",
              "            '<a target=\"_blank\" href=https://colab.research.google.com/notebooks/data_table.ipynb>data table notebook</a>'\n",
              "            + ' to learn more about interactive tables.';\n",
              "          element.innerHTML = '';\n",
              "          dataTable['output_type'] = 'display_data';\n",
              "          await google.colab.output.renderOutput(dataTable, element);\n",
              "          const docLink = document.createElement('div');\n",
              "          docLink.innerHTML = docLinkHtml;\n",
              "          element.appendChild(docLink);\n",
              "        }\n",
              "      </script>\n",
              "    </div>\n",
              "  </div>\n",
              "  "
            ]
          },
          "metadata": {},
          "execution_count": 5
        }
      ]
    },
    {
      "cell_type": "code",
      "source": [],
      "metadata": {
        "id": "3Zw20o4kQkCp"
      },
      "execution_count": null,
      "outputs": []
    }
  ],
  "metadata": {
    "accelerator": "GPU",
    "colab": {
      "machine_shape": "hm",
      "provenance": []
    },
    "gpuClass": "premium",
    "kernelspec": {
      "display_name": "Python 3",
      "name": "python3"
    },
    "language_info": {
      "name": "python"
    }
  },
  "nbformat": 4,
  "nbformat_minor": 0
}